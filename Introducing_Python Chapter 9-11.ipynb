{
  "nbformat": 4,
  "nbformat_minor": 0,
  "metadata": {
    "colab": {
      "provenance": []
    },
    "kernelspec": {
      "name": "python3",
      "display_name": "Python 3"
    },
    "language_info": {
      "name": "python"
    }
  },
  "cells": [
    {
      "cell_type": "markdown",
      "source": [
        "### This notebook is my personal notes for chapter 9-11 of Introducing Python: Modern Computing in Symple Packages.\n",
        "Chapter 9 and 10 mainly focus on function and class which are the most important part in Python, as a result, I'll do my best on these chapters.  \n",
        "As for Chapter 11, it tallks about packages, powerful prewritten modules and codes."
      ],
      "metadata": {
        "id": "w2uaNQ4aA3I_"
      }
    },
    {
      "cell_type": "markdown",
      "source": [
        "# Function.\n",
        "\n",
        "The default parameter is calculated when it was defined, thus the default parameter could not be an iterable item."
      ],
      "metadata": {
        "id": "BUGaI1fudBK9"
      }
    },
    {
      "cell_type": "code",
      "source": [
        "import pandas as pd\n",
        "import numpy as np\n",
        "# * could be used to collect all the parameter within a function\n",
        "def data(df, *args):\n",
        "    print(df.shape)\n",
        "    for arg in args:\n",
        "        print(arg)\n",
        "\n",
        "df = pd.DataFrame(np.arange(12).reshape(3, 4))\n",
        "data(df, 5, 12, 7, 13, 'Dean')"
      ],
      "metadata": {
        "colab": {
          "base_uri": "https://localhost:8080/"
        },
        "id": "BJinpKigBJYK",
        "outputId": "0cfaf9f4-a4ad-46e4-b103-ecaa169023e6"
      },
      "execution_count": null,
      "outputs": [
        {
          "output_type": "stream",
          "name": "stdout",
          "text": [
            "(3, 4)\n",
            "5\n",
            "12\n",
            "7\n",
            "13\n",
            "Dean\n"
          ]
        }
      ]
    },
    {
      "cell_type": "code",
      "source": [
        "# inner function, you can use it when an execution needed to be done multiple times within a function\n",
        "def factoral(number):\n",
        "    if not isinstance(number, int):\n",
        "        raise TypeError(f\"Sorry, but {number} is not an integer.\")\n",
        "    if number <= 1:\n",
        "        raise TypeError(f\"Sorry, {number} is lower than 1, at least 2 is required.\")\n",
        "\n",
        "    def inner_factoral(num): # inner function can remember the parameter itself\n",
        "        if num == 1:\n",
        "            return 1\n",
        "        else:\n",
        "            return num * inner_factoral(num - 1)\n",
        "\n",
        "    return inner_factoral(number)\n",
        "\n",
        "factoral(4)\n"
      ],
      "metadata": {
        "colab": {
          "base_uri": "https://localhost:8080/"
        },
        "id": "lHnTC6Ssn7RU",
        "outputId": "274259bc-6050-4d34-d3ce-8e18aaef3792"
      },
      "execution_count": null,
      "outputs": [
        {
          "output_type": "execute_result",
          "data": {
            "text/plain": [
              "24"
            ]
          },
          "metadata": {},
          "execution_count": 12
        }
      ]
    },
    {
      "cell_type": "markdown",
      "source": [
        "## Generator  \n",
        "Generator usually been used in a large iterable object, the advantage if using generator is that it saves the memory, it'll store the index where the last call toook place every time you iterate the generator."
      ],
      "metadata": {
        "id": "8OCK8Yqicblk"
      }
    },
    {
      "cell_type": "code",
      "source": [
        "# Use yield instead of return in generator\n",
        "def the_range(first=0, last=100, step=1):\n",
        "    num = first\n",
        "    while num < last:\n",
        "        yield num\n",
        "        num += step\n",
        "\n",
        "t = the_range(0, 10, 1)\n",
        "print(type(t))\n",
        "for x in t:\n",
        "    print(x)"
      ],
      "metadata": {
        "colab": {
          "base_uri": "https://localhost:8080/"
        },
        "id": "hYJInyfxdFrU",
        "outputId": "7c57f99f-83c9-48da-dd19-7006717c1a9d"
      },
      "execution_count": null,
      "outputs": [
        {
          "output_type": "stream",
          "name": "stdout",
          "text": [
            "<class 'generator'>\n",
            "0\n",
            "1\n",
            "2\n",
            "3\n",
            "4\n",
            "5\n",
            "6\n",
            "7\n",
            "8\n",
            "9\n"
          ]
        }
      ]
    },
    {
      "cell_type": "markdown",
      "source": [
        "##Fibonacci Sequence Generator.\n",
        "\n",
        "The Fibonacci sequence is a series of numbers in which each number is the sum of the two preceding ones. It starts from 0 and 1. The sequence goes: 0, 1, 1, 2, 3, 5, 8, 13, ...  \n",
        "\n",
        "Write a Python generator function called fibonacci_generator(n) that takes an integer n as its argument and yields the first n numbers in the Fibonacci sequence.  "
      ],
      "metadata": {
        "id": "0KRSuEyxaT27"
      }
    },
    {
      "cell_type": "code",
      "source": [
        "# For example.\n",
        "# gen = fibonacci_generator(5).\n",
        "# print(list(gen))  # Output: [0, 1, 1, 2, 3]\n",
        "\n",
        "def fibonacci_generator(n):\n",
        "    n1, n2 = 0, 1\n",
        "    count = 0\n",
        "    while count < n:\n",
        "        yield n1\n",
        "        n1, n2 = n2, n1 + n2\n",
        "        count += 1\n",
        "\n",
        "num = int(input())\n",
        "gen = fibonacci_generator(num)\n",
        "print(list(gen))"
      ],
      "metadata": {
        "colab": {
          "base_uri": "https://localhost:8080/"
        },
        "id": "ryrJhuA9aRmX",
        "outputId": "b3530799-0685-47e9-adb2-d6032f561217"
      },
      "execution_count": null,
      "outputs": [
        {
          "output_type": "stream",
          "name": "stdout",
          "text": [
            "5\n",
            "[0, 1, 1, 2, 3]\n"
          ]
        }
      ]
    },
    {
      "cell_type": "markdown",
      "source": [
        "## Decorator"
      ],
      "metadata": {
        "id": "GS_TvYfyy9Xw"
      }
    },
    {
      "cell_type": "code",
      "source": [
        "def document_it(func):\n",
        "    def new_function(*args, **kargs):\n",
        "        print(f\"Running function: {func.__name__}\")\n",
        "        print(f\"Position arguments: {args}\")\n",
        "        print(f\"Keyword arguments: {kargs}\")\n",
        "        result = func(*args, **kargs)\n",
        "        print(f\"Result: {result}\")\n",
        "        return result\n",
        "    return new_function\n",
        "\n",
        "@document_it\n",
        "def factoral(number):\n",
        "    if not isinstance(number, int):\n",
        "        raise TypeError(f\"Sorry, but {number} is not an integer.\")\n",
        "    if number <= 1:\n",
        "        raise TypeError(f\"Sorry, {number} is lower than 1, at least 2 is required.\")\n",
        "\n",
        "    def inner_factoral(num): # inner function can remember the parameter itself\n",
        "        if num == 1:\n",
        "            return 1\n",
        "        else:\n",
        "            return num * inner_factoral(num - 1)\n",
        "\n",
        "    return inner_factoral(number)\n",
        "\n",
        "factoral(10)"
      ],
      "metadata": {
        "colab": {
          "base_uri": "https://localhost:8080/"
        },
        "id": "YBcpTfxCxSIc",
        "outputId": "63d26a6d-9f43-4b9f-d47d-aee0c1814ac7"
      },
      "execution_count": null,
      "outputs": [
        {
          "output_type": "stream",
          "name": "stdout",
          "text": [
            "Running function: factoral\n",
            "Position arguments: (10,)\n",
            "Keyword arguments: {}\n",
            "Result: 3628800\n"
          ]
        },
        {
          "output_type": "execute_result",
          "data": {
            "text/plain": [
              "3628800"
            ]
          },
          "metadata": {},
          "execution_count": 13
        }
      ]
    },
    {
      "cell_type": "markdown",
      "source": [
        "## Recursion"
      ],
      "metadata": {
        "id": "psEDvqxKaq3U"
      }
    },
    {
      "cell_type": "code",
      "source": [
        "def flatten(lil):\n",
        "    for i in lil:\n",
        "        if isinstance(i, list):\n",
        "            yield from flatten(i)\n",
        "        else:\n",
        "            yield i\n",
        "\n",
        "lil = [1, 2, 3, 4, [5, 6, 7], [8, [9, 10]], [11, [12, [13, [14]]]]]\n",
        "list(flatten(lil))"
      ],
      "metadata": {
        "colab": {
          "base_uri": "https://localhost:8080/"
        },
        "id": "lLyX2y3uasc8",
        "outputId": "f99ef152-57b5-4768-bdf2-099cc97ed911"
      },
      "execution_count": null,
      "outputs": [
        {
          "output_type": "execute_result",
          "data": {
            "text/plain": [
              "[1, 2, 3, 4, 5, 6, 7, 8, 9, 10, 11, 12, 13, 14]"
            ]
          },
          "metadata": {},
          "execution_count": 17
        }
      ]
    },
    {
      "cell_type": "code",
      "source": [
        "def test(func):\n",
        "    def new_func(*args, **kargs):\n",
        "        print(f\"Start!\")\n",
        "        result = func(*args, **kargs)\n",
        "        print(f\"End!\")\n",
        "        return result\n",
        "\n",
        "    return new_func\n",
        "\n",
        "@test\n",
        "def flatten(lil):\n",
        "    for i in lil:\n",
        "        if isinstance(i, list):\n",
        "            yield from flatten(i)\n",
        "        else:\n",
        "            yield i\n",
        "\n",
        "lil = [1, 2, 3, 4, [5, 6, 7], [8, [9, 10]], [11, [12, [13, [14]]]]]\n",
        "list(flatten(lil))"
      ],
      "metadata": {
        "colab": {
          "base_uri": "https://localhost:8080/"
        },
        "id": "TW88eYjrjlA8",
        "outputId": "53466768-e9f2-4394-89dd-d126319d4916"
      },
      "execution_count": null,
      "outputs": [
        {
          "output_type": "stream",
          "name": "stdout",
          "text": [
            "Start!\n",
            "End!\n",
            "Start!\n",
            "End!\n",
            "Start!\n",
            "End!\n",
            "Start!\n",
            "End!\n",
            "Start!\n",
            "End!\n",
            "Start!\n",
            "End!\n",
            "Start!\n",
            "End!\n",
            "Start!\n",
            "End!\n"
          ]
        },
        {
          "output_type": "execute_result",
          "data": {
            "text/plain": [
              "[1, 2, 3, 4, 5, 6, 7, 8, 9, 10, 11, 12, 13, 14]"
            ]
          },
          "metadata": {},
          "execution_count": 18
        }
      ]
    },
    {
      "cell_type": "markdown",
      "source": [
        "## Try and Except\n",
        "Exercise: Number Conversion with Exception Handling\n",
        "\n",
        "Write a function named safe_int_conversion(user_input) that should perform the following tasks:\n",
        "\n",
        "1. Accept a string user_input as input.  \n",
        "2. Attempt to convert the user_input into an integer.  \n",
        "3. If the conversion succeeds, return that integer.  \n",
        "4. If the conversion fails, catch the exception and return a specific error message: \"Conversion error: {error_detail}\", where {error_detail} should be the specific error description.  \n",
        "\n",
        "Examples:  \n",
        "print(safe_int_conversion(\"123\"))  # Should print 123.  \n",
        "print(safe_int_conversion(\"abc\"))  # Should print \"Conversion error: invalid literal for int() with base 10: 'abc'\".\n"
      ],
      "metadata": {
        "id": "OEQTs8VCikY2"
      }
    },
    {
      "cell_type": "code",
      "source": [
        "def safe_int_conversion(input):\n",
        "    try:\n",
        "        return int(input)\n",
        "    except:\n",
        "        print(f\"Conversion error: invalid literal for int() with base 10: {input}\")\n",
        "\n",
        "safe_int_conversion(input())"
      ],
      "metadata": {
        "colab": {
          "base_uri": "https://localhost:8080/"
        },
        "id": "DwFYtzJHiw8o",
        "outputId": "06cf5f0a-983d-4d9c-90c0-2612820b3978"
      },
      "execution_count": null,
      "outputs": [
        {
          "output_type": "stream",
          "name": "stdout",
          "text": [
            "abc\n",
            "Conversion error: invalid literal for int() with base 10: abc\n"
          ]
        }
      ]
    },
    {
      "cell_type": "markdown",
      "source": [
        "# Class\n",
        "If you try to assign a variable to a self defined class, you need to call the name of class as calling a function"
      ],
      "metadata": {
        "id": "9JTkJCBJk1ZP"
      }
    },
    {
      "cell_type": "code",
      "source": [
        "class cat():\n",
        "    pass\n",
        "\n",
        "a_cat = cat()\n",
        "print(type(a_cat))"
      ],
      "metadata": {
        "id": "ysWWB7AHk2vG",
        "colab": {
          "base_uri": "https://localhost:8080/"
        },
        "outputId": "76952699-8331-4659-f10d-2e89e204deb4"
      },
      "execution_count": null,
      "outputs": [
        {
          "output_type": "stream",
          "name": "stdout",
          "text": [
            "<class '__main__.cat'>\n"
          ]
        }
      ]
    },
    {
      "cell_type": "code",
      "source": [
        "class cat():\n",
        "    def __init__(self, name, age):\n",
        "        self.name = name\n",
        "        self.age = age\n",
        "a_cat = cat('Cumpy', 14)\n",
        "a_cat.age"
      ],
      "metadata": {
        "colab": {
          "base_uri": "https://localhost:8080/"
        },
        "id": "12LuP3A6DLcj",
        "outputId": "fec47f82-7f49-41b3-d9d9-48a4b1b0f5d3"
      },
      "execution_count": null,
      "outputs": [
        {
          "output_type": "execute_result",
          "data": {
            "text/plain": [
              "14"
            ]
          },
          "metadata": {},
          "execution_count": 3
        }
      ]
    },
    {
      "cell_type": "markdown",
      "source": [
        "## Inheritance"
      ],
      "metadata": {
        "id": "NUYkGFnQEa6_"
      }
    },
    {
      "cell_type": "code",
      "source": [
        "class car():\n",
        "    def car(self):\n",
        "        print(\"I'm a car!\")\n",
        "\n",
        "class benz(car):\n",
        "    def brand(self):\n",
        "        print(\"I'm a benz!\")\n",
        "\n",
        "a_car = car()\n",
        "b_car = benz()\n",
        "b_car.car()"
      ],
      "metadata": {
        "colab": {
          "base_uri": "https://localhost:8080/"
        },
        "id": "3u4AQ2VnEWfI",
        "outputId": "01e65712-9d0e-463c-de65-57a5ec8b51b8"
      },
      "execution_count": null,
      "outputs": [
        {
          "output_type": "stream",
          "name": "stdout",
          "text": [
            "I'm a car!\n"
          ]
        }
      ]
    },
    {
      "cell_type": "code",
      "source": [
        "# super()\n",
        "class person():\n",
        "    def __init__(self, name, age):\n",
        "        self.name = name\n",
        "        self.age = age\n",
        "    def intro(self):\n",
        "        print(f\"Hi, my name is {self.name}.\")\n",
        "\n",
        "class student(person):\n",
        "    def __init__(self, name, age, job):\n",
        "        super().__init__(name, age)\n",
        "        self.job = 'Student'\n",
        "    def intro(self):\n",
        "        super().intro()\n",
        "        print(f\"I'm a {self.job}\")\n",
        "\n",
        "Dean = student('Dean', 24, 1)\n",
        "Dean.intro()"
      ],
      "metadata": {
        "colab": {
          "base_uri": "https://localhost:8080/"
        },
        "id": "P9-m3zkFHhP5",
        "outputId": "12ca77ed-39c8-4b84-c8c9-665428825f7e"
      },
      "execution_count": null,
      "outputs": [
        {
          "output_type": "stream",
          "name": "stdout",
          "text": [
            "Hi, my name is Dean.\n",
            "I'm a Student\n"
          ]
        }
      ]
    },
    {
      "cell_type": "markdown",
      "source": [
        "## Method"
      ],
      "metadata": {
        "id": "5e_7V77uSzyV"
      }
    },
    {
      "cell_type": "code",
      "source": [
        "class person():\n",
        "    count = 0\n",
        "    def __init__(self, name, age):\n",
        "        self.name = name\n",
        "        self.age = age\n",
        "        person.count += 1\n",
        "\n",
        "    # instance method -> the one we usually use\n",
        "    def intro(self):\n",
        "        print(f\"Hi, my name is {self.name}.\")\n",
        "\n",
        "    # class method -> the first parameter is cls\n",
        "    @classmethod\n",
        "    def time(cls):\n",
        "        print(\"This method ahs been called for\", str(cls.count), \"times.\")\n",
        "\n",
        "    # staticmethod -> doesn't require attribute or methods\n",
        "    @staticmethod\n",
        "    def greeting():\n",
        "        print(\"Hello there.\")\n",
        "\n",
        "A = person('Dean', 24)\n",
        "A.time()\n"
      ],
      "metadata": {
        "colab": {
          "base_uri": "https://localhost:8080/"
        },
        "id": "xw443H6ULUj1",
        "outputId": "1b8f21cb-64f5-49dd-878f-2df0ce34e290"
      },
      "execution_count": null,
      "outputs": [
        {
          "output_type": "stream",
          "name": "stdout",
          "text": [
            "This method ahs been called for 1 times.\n"
          ]
        }
      ]
    },
    {
      "cell_type": "markdown",
      "source": [
        "## Bookstore Inventory Management\n",
        "\n",
        "Assume you are tasked with designing an inventory management system for a bookstore. Implement the following two classes:\n",
        "\n",
        "Book:  \n",
        "Attributes: title, author, price, stock.  \n",
        "Methods:  \n",
        "sell(): Decrease the stock by one for every book sold. If the stock reaches zero, return \"Out of stock\".  \n",
        "restock(amount): Increase the stock by a certain amount.  \n",
        "Bookstore:  \n",
        "Attributes: books - a list of book objects.  \n",
        "Methods:  \n",
        "add_book(book): Add a book to the list of books.  \n",
        "search(title): Search for a book by its title. If found, return the book's details, otherwise return \"Book not found\".  "
      ],
      "metadata": {
        "id": "SrjBBDrxivfW"
      }
    },
    {
      "cell_type": "code",
      "source": [
        "# Example:\n",
        "    # book1 = Book(\"Harry Potter\", \"J.K. Rowling\", 20, 10)\n",
        "    # book2 = Book(\"The Hobbit\", \"J.R.R. Tolkien\", 15, 5)\n",
        "    # store = Bookstore()\n",
        "    # store.add_book(book1)\n",
        "    # store.add_book(book2)\n",
        "    # print(store.search(\"Harry Potter\")) # Should print book1's details"
      ],
      "metadata": {
        "id": "e0q0AaCBULcu"
      },
      "execution_count": null,
      "outputs": []
    },
    {
      "cell_type": "code",
      "source": [
        "class Book():\n",
        "    def __init__(self, title, author, price, stock):\n",
        "        self.title = title\n",
        "        self.author = author\n",
        "        self.price = price\n",
        "        self.stock = stock\n",
        "\n",
        "    def sell(self, n):\n",
        "        if self.stock < n:\n",
        "            print(f\"Out of stock!\\nThe stock would be {self.stock-n}\")\n",
        "        else:\n",
        "            self.stock -= n\n",
        "\n",
        "    def restock(self, n):\n",
        "        self.stock += n\n",
        "\n",
        "    def __repr__(self):\n",
        "        return f\"Title: {self.title}\\nAuthor: {self.author}\\nPrice: {self.price}\\nStock: {self.stock}\"\n",
        "\n",
        "class Bookstore():\n",
        "    def __init__(self):\n",
        "        self.books = []\n",
        "\n",
        "    def add_book(self, book):\n",
        "        if isinstance(book, Book):\n",
        "            self.books.append(book)\n",
        "        else:\n",
        "            print(\"The information is not complete!\")\n",
        "\n",
        "    def search(self, title):\n",
        "        for book in self.books:\n",
        "            if book.title == title:\n",
        "                return book\n",
        "        return \"Book not found\"\n",
        "    def __repr__(self):\n",
        "        return '\\n'.join([str(book) for book in self.books])\n",
        "\n",
        "\n",
        "book1 = Book(\"Harry Potter\", \"J.K. Rowling\", 20, 10)\n",
        "book2 = Book(\"The Hobbit\", \"J.R.R. Tolkien\", 15, 5)\n",
        "store = Bookstore()\n",
        "store.add_book(book1)\n",
        "store.add_book(book2)\n",
        "book1.sell(20)\n",
        "print(store.search(\"Harry Potter\")) # Should print book1's details\n",
        "print(book1.stock)\n"
      ],
      "metadata": {
        "colab": {
          "base_uri": "https://localhost:8080/"
        },
        "id": "7DsB0D5AjMT3",
        "outputId": "b6b8a66e-cad8-44c6-d064-1388f534aae7"
      },
      "execution_count": null,
      "outputs": [
        {
          "output_type": "stream",
          "name": "stdout",
          "text": [
            "Out of stock!\n",
            "The stock would be -10\n",
            "Title: Harry Potter\n",
            "Author: J.K. Rowling\n",
            "Price: 20\n",
            "Stock: 10\n",
            "10\n"
          ]
        }
      ]
    },
    {
      "cell_type": "markdown",
      "source": [
        "## LinkedList Class Implementation\n",
        "\n",
        "Description:\n",
        "Given a singly linked list, design a class LinkedList to represent and manipulate the linked list.\n",
        "\n",
        "Requirements:\n",
        "\n",
        "Define a Node class to store the value of each linked list node and a pointer to the next node.  \n",
        "The LinkedList class should have the following capabilities:  \n",
        "add(value): Add a new node at the end of the linked list.  \n",
        "find(value): Return the node if the value exists in the list; otherwise, return None.  \n",
        "delete(value): Remove the first node with the specified value from the list. If the value does not exist, do nothing.  \n",
        "display(): Print all the elements of the linked list.  \n",
        "reverse(): Reverse the linked list.  "
      ],
      "metadata": {
        "id": "QzIKrzJT4WcC"
      }
    },
    {
      "cell_type": "code",
      "source": [
        "class Node():\n",
        "    def __init__(self, value):\n",
        "        self.value = value\n",
        "        self.next = None\n",
        "\n",
        "class Linkedlist():\n",
        "    def __init__(self):\n",
        "        self.head = None\n",
        "\n",
        "    def add(self, value):\n",
        "        new_node = Node(value)\n",
        "        if not self.head:\n",
        "            self.head = new_node\n",
        "        else:\n",
        "            current_node = self.head\n",
        "            while current_node.next:\n",
        "                current_node = current_node.next\n",
        "            current_node.next = new_node\n",
        "\n",
        "    def find(self, value):\n",
        "        current_node = self.head\n",
        "        # This is a bad idea\n",
        "        '''\n",
        "        while current_node.next:\n",
        "            if current_node.value == value:\n",
        "                return current_node.value\n",
        "            else:\n",
        "                current_node = current_node.next\n",
        "        if current_node.value != value:\n",
        "            return None\n",
        "        else:\n",
        "            return current_node.value\n",
        "        '''\n",
        "        while current_node:\n",
        "            if current_node.value == value:\n",
        "                return current_node.value\n",
        "            current_node = current_node.next\n",
        "        return None\n",
        "\n",
        "\n",
        "    def display(self):\n",
        "        '''\n",
        "        This will cause iterating the same value within the linkedlist\n",
        "\n",
        "        while current_node.next:\n",
        "            print(f\"{current_node.value},\", end=\" \")\n",
        "        print(f\"{current_node.value}\")\n",
        "        '''\n",
        "        current_node = self.head\n",
        "        while current_node:\n",
        "            if current_node.next:\n",
        "                print(f\"{current_node.value},\", end=\" \")\n",
        "                current_node = current_node.next\n",
        "            else:\n",
        "                print(f\"{current_node.value}\")\n",
        "                current_node = current_node.next\n",
        "\n",
        "        '''\n",
        "        This is a more concise version\n",
        "        elements = []\n",
        "        current_node = self.head\n",
        "\n",
        "        while current_node:\n",
        "            elements.append(str(current_node.value))\n",
        "            current_node = current_node.next\n",
        "\n",
        "        print(', '.join(elements))\n",
        "        '''\n",
        "\n",
        "    def delete(self, value):\n",
        "        # This will raise error if the head value equals to the value\n",
        "        '''\n",
        "        current_node = self.head\n",
        "        while current_node.next:\n",
        "            if current_node.next.value == value:\n",
        "                current_node.next = current_node.next.next\n",
        "        '''\n",
        "        if self.head.value == value:\n",
        "            self.head = self.head.next\n",
        "            return # Exit once the delete is done\n",
        "        else:\n",
        "            current_node = self.head\n",
        "            '''\n",
        "            This might cause Attibute error when current_node.next is None\n",
        "            while current_node:\n",
        "                if current_node.next.value == value:\n",
        "                    current_node.next = current_node.next.next\n",
        "                    return # Exit once the delete is done\n",
        "            '''\n",
        "            while current_node.next:\n",
        "                if current_node.next.value == value:\n",
        "                    current_node.next = current_node.next.next\n",
        "                    return\n",
        "                current_node = current_node.next\n",
        "\n",
        "    def reverse(self):\n",
        "        prev = None\n",
        "        current_node = self.head\n",
        "        while current_node:\n",
        "            next_node = current_node.next  # Save the next node\n",
        "            current_node.next = prev       # Reverse the link\n",
        "            prev = current_node            # Move 'prev' forward\n",
        "            current_node = next_node       # Move 'current_node' forward\n",
        "        self.head = prev                   # Set the new head to 'prev'"
      ],
      "metadata": {
        "id": "bjqFcE8g4lsv"
      },
      "execution_count": 3,
      "outputs": []
    },
    {
      "cell_type": "code",
      "source": [
        "# Create an empty linked list\n",
        "ll = Linkedlist()\n",
        "ll.add(1)\n",
        "ll.add(2)\n",
        "ll.add(3)\n",
        "ll.display()  # Output: 1 -> 2 -> 3\n",
        "\n",
        "ll.reverse()\n",
        "ll.display() # Output: 3 -> 2 -> 1\n",
        "\n",
        "ll.delete(2)\n",
        "ll.reverse()\n",
        "ll.display()  # Output: 1 -> 3"
      ],
      "metadata": {
        "id": "Fp-LPocJu3RH",
        "colab": {
          "base_uri": "https://localhost:8080/"
        },
        "outputId": "daf1e043-a472-483a-83c1-5d05bb6b1f4d"
      },
      "execution_count": 5,
      "outputs": [
        {
          "output_type": "stream",
          "name": "stdout",
          "text": [
            "1, 2, 3\n",
            "3, 2, 1\n",
            "1, 3\n"
          ]
        }
      ]
    },
    {
      "cell_type": "markdown",
      "source": [
        "## Packages"
      ],
      "metadata": {
        "id": "uwartxXizUhZ"
      }
    },
    {
      "cell_type": "code",
      "source": [
        "from collections import defaultdict, Counter\n",
        "\n",
        "# defaultdict is a useful tool!\n",
        "dict_ = defaultdict(int)\n",
        "foods = ['egg', 'spam', 'egg', 'egg', 'melon', 'melon']\n",
        "for food in foods:\n",
        "    dict_[food] += 1\n",
        "\n",
        "for food, count in dict_.items():\n",
        "    print(f\"{food}, {count}\")"
      ],
      "metadata": {
        "colab": {
          "base_uri": "https://localhost:8080/"
        },
        "id": "erj5JUIRzXY8",
        "outputId": "a3cf8110-eccb-40e5-836f-6afc3afd71cc"
      },
      "execution_count": 5,
      "outputs": [
        {
          "output_type": "stream",
          "name": "stdout",
          "text": [
            "egg, 3\n",
            "spam, 1\n",
            "melon, 2\n"
          ]
        }
      ]
    },
    {
      "cell_type": "code",
      "source": [
        "from pprint import pprint # Better tool of printing\n",
        "class_ = {\n",
        "    'International Relations': 'Monday',\n",
        "    'Political Science': 'Tuesday',\n",
        "    'Machine Learning': 'Wednesday',\n",
        "    'Deep Learning': 'Tursday',\n",
        "    'Natural Language Process': 'Friday'\n",
        "}\n",
        "\n",
        "print(class_)\n",
        "\n",
        "pprint(class_)"
      ],
      "metadata": {
        "colab": {
          "base_uri": "https://localhost:8080/"
        },
        "id": "6Df6VDt6K3Lw",
        "outputId": "136a00f4-6e93-40fb-f01f-33196d21da2f"
      },
      "execution_count": 9,
      "outputs": [
        {
          "output_type": "stream",
          "name": "stdout",
          "text": [
            "{'International Relations': 'Monday', 'Political Science': 'Tuesday', 'Machine Learning': 'Wednesday', 'Deep Learning': 'Tursday', 'Natural Language Process': 'Friday'}\n",
            "{'Deep Learning': 'Tursday',\n",
            " 'International Relations': 'Monday',\n",
            " 'Machine Learning': 'Wednesday',\n",
            " 'Natural Language Process': 'Friday',\n",
            " 'Political Science': 'Tuesday'}\n"
          ]
        }
      ]
    }
  ]
}