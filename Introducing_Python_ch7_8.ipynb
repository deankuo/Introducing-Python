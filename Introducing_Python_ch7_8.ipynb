{
  "nbformat": 4,
  "nbformat_minor": 0,
  "metadata": {
    "colab": {
      "provenance": []
    },
    "kernelspec": {
      "name": "python3",
      "display_name": "Python 3"
    },
    "language_info": {
      "name": "python"
    }
  },
  "cells": [
    {
      "cell_type": "markdown",
      "source": [
        "### This notebook is my personal notes for chapter 7-8 of Introducing Python: Modern Computing in Symple Packages"
      ],
      "metadata": {
        "id": "gtsx_49vyHs7"
      }
    },
    {
      "cell_type": "markdown",
      "source": [
        "# Tuple"
      ],
      "metadata": {
        "id": "XONVr6Xa0Oms"
      }
    },
    {
      "cell_type": "code",
      "source": [
        "tuple_ = ('Dean', 'Bob', 'Alice')\n",
        "print(type(tuple_))\n",
        "a, b, c = tuple_\n",
        "print(a)\n",
        "print(b)\n",
        "print(c)"
      ],
      "metadata": {
        "colab": {
          "base_uri": "https://localhost:8080/"
        },
        "id": "58R418hmyC5X",
        "outputId": "0acd16f9-6944-45a3-d3c2-04f7d2fcf958"
      },
      "execution_count": null,
      "outputs": [
        {
          "output_type": "stream",
          "name": "stdout",
          "text": [
            "<class 'tuple'>\n",
            "Dean\n",
            "Bob\n",
            "Alice\n"
          ]
        }
      ]
    },
    {
      "cell_type": "markdown",
      "source": [
        "# List"
      ],
      "metadata": {
        "id": "xnslW0Kv1ayu"
      }
    },
    {
      "cell_type": "code",
      "execution_count": null,
      "metadata": {
        "colab": {
          "base_uri": "https://localhost:8080/"
        },
        "id": "3BENf4a1x17x",
        "outputId": "efee6e67-80b3-4a0a-c3c9-c07b1e8853fb"
      },
      "outputs": [
        {
          "output_type": "execute_result",
          "data": {
            "text/plain": [
              "[1, 2, 8, 3, 4, 5, 6]"
            ]
          },
          "metadata": {},
          "execution_count": 12
        }
      ],
      "source": [
        "# insert() insert elements to where you want it to be, different from append()\n",
        "list_ = [1, 2, 3, 4, 5, 6]\n",
        "list_.insert(2, 8) # insert 8 at index 2\n",
        "list_"
      ]
    },
    {
      "cell_type": "code",
      "source": [
        "# Use extend or + to combine lists since append() function would add a list into the original list\n",
        "list_2 = [5, 4, 3, 2, 1]\n",
        "list_.extend(list_2)\n",
        "print(list_)\n",
        "list_.append(list_2)\n",
        "print(list_)"
      ],
      "metadata": {
        "colab": {
          "base_uri": "https://localhost:8080/"
        },
        "id": "dBJ9OVsM2Meo",
        "outputId": "6f1df584-a710-4100-c4a9-d062d3be5230"
      },
      "execution_count": null,
      "outputs": [
        {
          "output_type": "stream",
          "name": "stdout",
          "text": [
            "[1, 2, 8, 3, 4, 5, 6, 5, 4, 3, 2, 1]\n",
            "[1, 2, 8, 3, 4, 5, 6, 5, 4, 3, 2, 1, [5, 4, 3, 2, 1]]\n"
          ]
        }
      ]
    },
    {
      "cell_type": "code",
      "source": [
        "sir_lab = ['Ally', 'Astrid', 'Bob', 'Charlotte', 'Dean', 'Elaine']\n",
        "member = ','.join(sir_lab)\n",
        "print(member)\n",
        "member_list = member.split(',')\n",
        "print(sir_lab == member_list)"
      ],
      "metadata": {
        "colab": {
          "base_uri": "https://localhost:8080/"
        },
        "id": "XEywfq6k6KIP",
        "outputId": "37b28bd7-facb-4afb-aa73-c5c634a2b874"
      },
      "execution_count": null,
      "outputs": [
        {
          "output_type": "stream",
          "name": "stdout",
          "text": [
            "Ally,Astrid,Bob,Charlotte,Dean,Elaine\n",
            "True\n"
          ]
        }
      ]
    },
    {
      "cell_type": "markdown",
      "source": [
        "List Comprehension  \n",
        "[expression for item in iterable]"
      ],
      "metadata": {
        "id": "swbmvRuZ8FPM"
      }
    },
    {
      "cell_type": "code",
      "source": [
        "# 一行 for loop\n",
        "\n",
        "number_list = [number - 1 for number in range(1, 6) if number % 2 == 0]\n",
        "print(number_list)\n",
        "\n",
        "rows = range(1, 4)\n",
        "cols = range(1, 3)\n",
        "cells = [(row, col) for row in rows for col in cols]\n",
        "for cell in cells:\n",
        "    print(cell)"
      ],
      "metadata": {
        "colab": {
          "base_uri": "https://localhost:8080/"
        },
        "id": "Bei1B1Qt8Bxb",
        "outputId": "ace5c756-0a06-43f2-b1c8-3735021fbff3"
      },
      "execution_count": null,
      "outputs": [
        {
          "output_type": "stream",
          "name": "stdout",
          "text": [
            "[1, 3]\n",
            "(1, 1)\n",
            "(1, 2)\n",
            "(2, 1)\n",
            "(2, 2)\n",
            "(3, 1)\n",
            "(3, 2)\n"
          ]
        }
      ]
    },
    {
      "cell_type": "markdown",
      "source": [
        "# Dictionary"
      ],
      "metadata": {
        "id": "v8E-Dz9lB1JN"
      }
    },
    {
      "cell_type": "code",
      "source": [
        "# Use [key] or get() to get the value\n",
        "manifestos = {1998: 'df_1998', 2001: 'df_2001', 2004: 'df_2004',\n",
        "              2008: 'df_2008', 2012: 'df_2012', 2016: 'df_2016'}\n",
        "\n",
        "print(manifestos[2016])\n",
        "print(manifestos.get(2012))"
      ],
      "metadata": {
        "colab": {
          "base_uri": "https://localhost:8080/"
        },
        "id": "7ndbwBhrB4MB",
        "outputId": "75d9a096-c6c3-42ce-821f-a871234f1716"
      },
      "execution_count": null,
      "outputs": [
        {
          "output_type": "stream",
          "name": "stdout",
          "text": [
            "df_2016\n",
            "df_2012\n"
          ]
        }
      ]
    },
    {
      "cell_type": "code",
      "source": [
        "# keys() will return s dict_key() object which is not a list, thus you need to use list() to transform it\n",
        "print(manifestos.keys())\n",
        "print(list(manifestos.keys()))\n",
        "\n",
        "# values() to get all values\n",
        "print(list(manifestos.values()))\n",
        "print(list(manifestos.items()))"
      ],
      "metadata": {
        "colab": {
          "base_uri": "https://localhost:8080/"
        },
        "id": "L0IgpXx2ITup",
        "outputId": "fbed4239-9a51-4f3e-8992-1730cfc4a2ce"
      },
      "execution_count": null,
      "outputs": [
        {
          "output_type": "stream",
          "name": "stdout",
          "text": [
            "dict_keys([1998, 2001, 2004, 2008, 2012, 2016])\n",
            "[1998, 2001, 2004, 2008, 2012, 2016]\n",
            "['df_1998', 'df_2001', 'df_2004', 'df_2008', 'df_2012', 'df_2016']\n",
            "[(1998, 'df_1998'), (2001, 'df_2001'), (2004, 'df_2004'), (2008, 'df_2008'), (2012, 'df_2012'), (2016, 'df_2016')]\n"
          ]
        }
      ]
    },
    {
      "cell_type": "code",
      "source": [
        "# {**a, **b} is a shallow copy of dictionary combination\n",
        "new_manifestos = {2020: 'df_2020', 2024: 'df_2024'}\n",
        "print({**manifestos, **new_manifestos}, end='\\n')\n",
        "\n",
        "# you can also use update() to copy from another dictiionary\n",
        "manifestos.update(new_manifestos)\n",
        "manifestos"
      ],
      "metadata": {
        "colab": {
          "base_uri": "https://localhost:8080/"
        },
        "id": "bSA7GUGEIVCy",
        "outputId": "4a2e4c63-8566-460a-879a-60d726e630d8"
      },
      "execution_count": null,
      "outputs": [
        {
          "output_type": "stream",
          "name": "stdout",
          "text": [
            "{1998: 'df_1998', 2001: 'df_2001', 2004: 'df_2004', 2008: 'df_2008', 2012: 'df_2012', 2016: 'df_2016', 2020: 'df_2020', 2024: 'df_2024'}\n"
          ]
        },
        {
          "output_type": "execute_result",
          "data": {
            "text/plain": [
              "{1998: 'df_1998',\n",
              " 2001: 'df_2001',\n",
              " 2004: 'df_2004',\n",
              " 2008: 'df_2008',\n",
              " 2012: 'df_2012',\n",
              " 2016: 'df_2016',\n",
              " 2020: 'df_2020',\n",
              " 2024: 'df_2024'}"
            ]
          },
          "metadata": {},
          "execution_count": 14
        }
      ]
    },
    {
      "cell_type": "code",
      "source": [
        "# you can use del and pop() to delete the item in dictionary\n",
        "del manifestos[2024]\n",
        "print(manifestos)\n",
        "\n",
        "manifestos.pop(2020)\n",
        "print(manifestos)"
      ],
      "metadata": {
        "colab": {
          "base_uri": "https://localhost:8080/"
        },
        "id": "GDUvLVfNKMX6",
        "outputId": "7690363a-2ac2-4e3a-a238-fce129b3daed"
      },
      "execution_count": null,
      "outputs": [
        {
          "output_type": "stream",
          "name": "stdout",
          "text": [
            "{1998: 'df_1998', 2001: 'df_2001', 2004: 'df_2004', 2008: 'df_2008', 2012: 'df_2012', 2016: 'df_2016', 2020: 'df_2020'}\n",
            "{1998: 'df_1998', 2001: 'df_2001', 2004: 'df_2004', 2008: 'df_2008', 2012: 'df_2012', 2016: 'df_2016'}\n"
          ]
        }
      ]
    },
    {
      "cell_type": "code",
      "source": [
        "# dictionary comprehension\n",
        "# {key_expression : value_expression for expression in iterable}\n",
        "word = 'letters'\n",
        "letter_count = {letter: word.count(letter) for letter in set(word)}\n",
        "letter_count"
      ],
      "metadata": {
        "colab": {
          "base_uri": "https://localhost:8080/"
        },
        "id": "FBW9P9MxQk82",
        "outputId": "6378e24e-eefb-4d19-cd24-4ceacfa306cf"
      },
      "execution_count": null,
      "outputs": [
        {
          "output_type": "execute_result",
          "data": {
            "text/plain": [
              "{'l': 1, 'e': 2, 'r': 1, 's': 1, 't': 2}"
            ]
          },
          "metadata": {},
          "execution_count": 23
        }
      ]
    },
    {
      "cell_type": "markdown",
      "source": [
        "# Set"
      ],
      "metadata": {
        "id": "T8kGYubb-0AU"
      }
    },
    {
      "cell_type": "code",
      "source": [
        "# Set has unique value inside\n",
        "print(set(word))\n",
        "\n",
        "# use add() to add up\n",
        "a = set(word)\n",
        "a.add('u')\n",
        "print(a)"
      ],
      "metadata": {
        "colab": {
          "base_uri": "https://localhost:8080/"
        },
        "id": "WQAcmCQyTAKY",
        "outputId": "01f1c8b9-7011-4b96-abc3-829e5eff2093"
      },
      "execution_count": null,
      "outputs": [
        {
          "output_type": "stream",
          "name": "stdout",
          "text": [
            "{'l', 'e', 'r', 's', 't'}\n",
            "{'l', 'e', 'r', 's', 'u', 't'}\n"
          ]
        }
      ]
    },
    {
      "cell_type": "code",
      "source": [
        "# set comprehension\n",
        "# {expression for expression in iterable}\n",
        "new_num = {num for num in range(1, 10) if num % 2 == 0}\n",
        "new_num"
      ],
      "metadata": {
        "colab": {
          "base_uri": "https://localhost:8080/"
        },
        "id": "mD7BE2SH_D00",
        "outputId": "e34fd835-35b9-4d64-f416-c1c6dc983e0e"
      },
      "execution_count": null,
      "outputs": [
        {
          "output_type": "execute_result",
          "data": {
            "text/plain": [
              "{2, 4, 6, 8}"
            ]
          },
          "metadata": {},
          "execution_count": 27
        }
      ]
    },
    {
      "cell_type": "code",
      "source": [
        "# practice\n",
        "titles = ['Creature of Habit', 'Crewel Fate', 'Sharks On a Plane']\n",
        "plots = ['A nun turns into a monster', 'A haunted yarn shop', 'Check your exit']\n",
        "movies = {title: plot for title, plot in zip(titles, plots)}\n",
        "print(movies)"
      ],
      "metadata": {
        "colab": {
          "base_uri": "https://localhost:8080/"
        },
        "id": "76tJA8-i_wGA",
        "outputId": "54a0c7a5-dabf-4580-be14-e248c8328792"
      },
      "execution_count": null,
      "outputs": [
        {
          "output_type": "stream",
          "name": "stdout",
          "text": [
            "{'Creature of Habit': 'A nun turns into a monster', 'Crewel Fate': 'A haunted yarn shop', 'Sharks On a Plane': 'Check your exit'}\n"
          ]
        }
      ]
    }
  ]
}